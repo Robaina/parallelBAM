{
 "cells": [
  {
   "cell_type": "markdown",
   "id": "c1d2d98b-a3d1-4d9a-accd-63ddd43d76bd",
   "metadata": {},
   "source": [
    "# Parallelizing operations on SAM/BAM files\n",
    "\n",
    "SAM/BAM files are typically large, thus, operations on these files are time intensive. This project provides tools to parallelize operations on SAM/BAM files. The workflow follows:\n",
    "\n",
    "1. Split BAM/SAM file in _n_ chunks\n",
    "2. Perform operation in each chunk in a dedicated process and save resulting SAM/BAM chunk \n",
    "3. Merge results back into a single SAM/BAM file\n",
    "\n",
    "Depends on:\n",
    "\n",
    "1. Samtools\n",
    "\n",
    "# Installation\n",
    "\n",
    "1. Git clone project\n",
    "2. cd to cloned project directory\n",
    "3. ```sudo python3 setup.py install```"
   ]
  },
  {
   "cell_type": "markdown",
   "id": "5e6d22c4-f2d9-4564-bd17-a457cd54e2f8",
   "metadata": {},
   "source": [
    "# Usage\n",
    "\n",
    "There is one main function named ```parallelizedBAMoperation```. This function takes as mandatory arguments:\n",
    "\n",
    "1. path to original bam file (should be ordered)\n",
    "2. a callable function to perform the operation on each bam file chunk\n",
    "\n",
    "The callable function must accept the following two first arguments: (i) path to input bam file and (ii) path to resulting output bam file, in this order."
   ]
  },
  {
   "cell_type": "code",
   "execution_count": 1,
   "id": "3f165338-995e-4035-abc3-ac9d56080878",
   "metadata": {},
   "outputs": [
    {
     "data": {
      "text/plain": [
       "'/home/robaina/Documents/Quantify_Samtools/parallelBAM/parallelbam/__init__.py'"
      ]
     },
     "execution_count": 1,
     "metadata": {},
     "output_type": "execute_result"
    }
   ],
   "source": [
    "import parallelbam\n",
    "\n",
    "parallelbam.__file__"
   ]
  },
  {
   "cell_type": "code",
   "execution_count": 2,
   "id": "2b6ffe12-c8cd-4b73-942f-38986941b0cc",
   "metadata": {},
   "outputs": [],
   "source": [
    "from parallelbam.parallelbam import parallelizeBAMoperation, getNumberOfReads"
   ]
  },
  {
   "cell_type": "code",
   "execution_count": 4,
   "id": "3c3dcb2f-e075-494b-8436-89542956717f",
   "metadata": {},
   "outputs": [
    {
     "ename": "FileNotFoundError",
     "evalue": "[Errno 2] No such file or directory: '/home/robaina/bin/splitBAM.sh'",
     "output_type": "error",
     "traceback": [
      "\u001b[0;31m---------------------------------------------------------------------------\u001b[0m",
      "\u001b[0;31mFileNotFoundError\u001b[0m                         Traceback (most recent call last)",
      "\u001b[0;32m<ipython-input-4-7ea8a0ed1bf1>\u001b[0m in \u001b[0;36m<module>\u001b[0;34m\u001b[0m\n\u001b[1;32m      5\u001b[0m \u001b[0;34m\u001b[0m\u001b[0m\n\u001b[1;32m      6\u001b[0m \u001b[0;34m\u001b[0m\u001b[0m\n\u001b[0;32m----> 7\u001b[0;31m parallelizeBAMoperation('../sample.bam',\n\u001b[0m\u001b[1;32m      8\u001b[0m                         \u001b[0mfoo\u001b[0m\u001b[0;34m,\u001b[0m \u001b[0moutput_path\u001b[0m\u001b[0;34m=\u001b[0m\u001b[0;32mNone\u001b[0m\u001b[0;34m,\u001b[0m\u001b[0;34m\u001b[0m\u001b[0;34m\u001b[0m\u001b[0m\n\u001b[1;32m      9\u001b[0m                         n_processes=4)\n",
      "\u001b[0;32m~/Documents/Quantify_Samtools/parallelBAM/parallelbam/parallelbam.py\u001b[0m in \u001b[0;36mparallelizeBAMoperation\u001b[0;34m(path_to_bam, callback, callback_additional_args, output_path, n_processes)\u001b[0m\n\u001b[1;32m     82\u001b[0m         \u001b[0moutput_path\u001b[0m \u001b[0;34m=\u001b[0m \u001b[0mos\u001b[0m\u001b[0;34m.\u001b[0m\u001b[0mpath\u001b[0m\u001b[0;34m.\u001b[0m\u001b[0mjoin\u001b[0m\u001b[0;34m(\u001b[0m\u001b[0mbam_dir\u001b[0m\u001b[0;34m,\u001b[0m \u001b[0;34m'processed.bam'\u001b[0m\u001b[0;34m)\u001b[0m\u001b[0;34m\u001b[0m\u001b[0;34m\u001b[0m\u001b[0m\n\u001b[1;32m     83\u001b[0m \u001b[0;34m\u001b[0m\u001b[0m\n\u001b[0;32m---> 84\u001b[0;31m     \u001b[0msplitBAM\u001b[0m\u001b[0;34m(\u001b[0m\u001b[0mpath_to_bam\u001b[0m\u001b[0;34m,\u001b[0m \u001b[0mn_parts\u001b[0m\u001b[0;34m=\u001b[0m\u001b[0mn_processes\u001b[0m\u001b[0;34m)\u001b[0m\u001b[0;34m\u001b[0m\u001b[0;34m\u001b[0m\u001b[0m\n\u001b[0m\u001b[1;32m     85\u001b[0m \u001b[0;34m\u001b[0m\u001b[0m\n\u001b[1;32m     86\u001b[0m     \u001b[0mprocesses\u001b[0m \u001b[0;34m=\u001b[0m \u001b[0;34m[\u001b[0m\u001b[0;34m]\u001b[0m\u001b[0;34m\u001b[0m\u001b[0;34m\u001b[0m\u001b[0m\n",
      "\u001b[0;32m~/Documents/Quantify_Samtools/parallelBAM/parallelbam/parallelbam.py\u001b[0m in \u001b[0;36msplitBAM\u001b[0;34m(path_to_bam, n_parts)\u001b[0m\n\u001b[1;32m     38\u001b[0m     \u001b[0mpart_size\u001b[0m \u001b[0;34m=\u001b[0m \u001b[0mmath\u001b[0m\u001b[0;34m.\u001b[0m\u001b[0mceil\u001b[0m\u001b[0;34m(\u001b[0m\u001b[0mn_reads\u001b[0m \u001b[0;34m/\u001b[0m \u001b[0mn_parts\u001b[0m\u001b[0;34m)\u001b[0m \u001b[0;34m+\u001b[0m \u001b[0;36m1\u001b[0m\u001b[0;34m\u001b[0m\u001b[0;34m\u001b[0m\u001b[0m\n\u001b[1;32m     39\u001b[0m \u001b[0;34m\u001b[0m\u001b[0m\n\u001b[0;32m---> 40\u001b[0;31m     subprocess.run(\n\u001b[0m\u001b[1;32m     41\u001b[0m         [os.path.join(path_to_bash_scripts, 'bin', 'splitBAM.sh'),\n\u001b[1;32m     42\u001b[0m          \u001b[0mbam_dir\u001b[0m\u001b[0;34m,\u001b[0m\u001b[0;34m\u001b[0m\u001b[0;34m\u001b[0m\u001b[0m\n",
      "\u001b[0;32m/usr/lib/python3.8/subprocess.py\u001b[0m in \u001b[0;36mrun\u001b[0;34m(input, capture_output, timeout, check, *popenargs, **kwargs)\u001b[0m\n\u001b[1;32m    491\u001b[0m         \u001b[0mkwargs\u001b[0m\u001b[0;34m[\u001b[0m\u001b[0;34m'stderr'\u001b[0m\u001b[0;34m]\u001b[0m \u001b[0;34m=\u001b[0m \u001b[0mPIPE\u001b[0m\u001b[0;34m\u001b[0m\u001b[0;34m\u001b[0m\u001b[0m\n\u001b[1;32m    492\u001b[0m \u001b[0;34m\u001b[0m\u001b[0m\n\u001b[0;32m--> 493\u001b[0;31m     \u001b[0;32mwith\u001b[0m \u001b[0mPopen\u001b[0m\u001b[0;34m(\u001b[0m\u001b[0;34m*\u001b[0m\u001b[0mpopenargs\u001b[0m\u001b[0;34m,\u001b[0m \u001b[0;34m**\u001b[0m\u001b[0mkwargs\u001b[0m\u001b[0;34m)\u001b[0m \u001b[0;32mas\u001b[0m \u001b[0mprocess\u001b[0m\u001b[0;34m:\u001b[0m\u001b[0;34m\u001b[0m\u001b[0;34m\u001b[0m\u001b[0m\n\u001b[0m\u001b[1;32m    494\u001b[0m         \u001b[0;32mtry\u001b[0m\u001b[0;34m:\u001b[0m\u001b[0;34m\u001b[0m\u001b[0;34m\u001b[0m\u001b[0m\n\u001b[1;32m    495\u001b[0m             \u001b[0mstdout\u001b[0m\u001b[0;34m,\u001b[0m \u001b[0mstderr\u001b[0m \u001b[0;34m=\u001b[0m \u001b[0mprocess\u001b[0m\u001b[0;34m.\u001b[0m\u001b[0mcommunicate\u001b[0m\u001b[0;34m(\u001b[0m\u001b[0minput\u001b[0m\u001b[0;34m,\u001b[0m \u001b[0mtimeout\u001b[0m\u001b[0;34m=\u001b[0m\u001b[0mtimeout\u001b[0m\u001b[0;34m)\u001b[0m\u001b[0;34m\u001b[0m\u001b[0;34m\u001b[0m\u001b[0m\n",
      "\u001b[0;32m/usr/lib/python3.8/subprocess.py\u001b[0m in \u001b[0;36m__init__\u001b[0;34m(self, args, bufsize, executable, stdin, stdout, stderr, preexec_fn, close_fds, shell, cwd, env, universal_newlines, startupinfo, creationflags, restore_signals, start_new_session, pass_fds, encoding, errors, text)\u001b[0m\n\u001b[1;32m    856\u001b[0m                             encoding=encoding, errors=errors)\n\u001b[1;32m    857\u001b[0m \u001b[0;34m\u001b[0m\u001b[0m\n\u001b[0;32m--> 858\u001b[0;31m             self._execute_child(args, executable, preexec_fn, close_fds,\n\u001b[0m\u001b[1;32m    859\u001b[0m                                 \u001b[0mpass_fds\u001b[0m\u001b[0;34m,\u001b[0m \u001b[0mcwd\u001b[0m\u001b[0;34m,\u001b[0m \u001b[0menv\u001b[0m\u001b[0;34m,\u001b[0m\u001b[0;34m\u001b[0m\u001b[0;34m\u001b[0m\u001b[0m\n\u001b[1;32m    860\u001b[0m                                 \u001b[0mstartupinfo\u001b[0m\u001b[0;34m,\u001b[0m \u001b[0mcreationflags\u001b[0m\u001b[0;34m,\u001b[0m \u001b[0mshell\u001b[0m\u001b[0;34m,\u001b[0m\u001b[0;34m\u001b[0m\u001b[0;34m\u001b[0m\u001b[0m\n",
      "\u001b[0;32m/usr/lib/python3.8/subprocess.py\u001b[0m in \u001b[0;36m_execute_child\u001b[0;34m(self, args, executable, preexec_fn, close_fds, pass_fds, cwd, env, startupinfo, creationflags, shell, p2cread, p2cwrite, c2pread, c2pwrite, errread, errwrite, restore_signals, start_new_session)\u001b[0m\n\u001b[1;32m   1702\u001b[0m                     \u001b[0;32mif\u001b[0m \u001b[0merrno_num\u001b[0m \u001b[0;34m!=\u001b[0m \u001b[0;36m0\u001b[0m\u001b[0;34m:\u001b[0m\u001b[0;34m\u001b[0m\u001b[0;34m\u001b[0m\u001b[0m\n\u001b[1;32m   1703\u001b[0m                         \u001b[0merr_msg\u001b[0m \u001b[0;34m=\u001b[0m \u001b[0mos\u001b[0m\u001b[0;34m.\u001b[0m\u001b[0mstrerror\u001b[0m\u001b[0;34m(\u001b[0m\u001b[0merrno_num\u001b[0m\u001b[0;34m)\u001b[0m\u001b[0;34m\u001b[0m\u001b[0;34m\u001b[0m\u001b[0m\n\u001b[0;32m-> 1704\u001b[0;31m                     \u001b[0;32mraise\u001b[0m \u001b[0mchild_exception_type\u001b[0m\u001b[0;34m(\u001b[0m\u001b[0merrno_num\u001b[0m\u001b[0;34m,\u001b[0m \u001b[0merr_msg\u001b[0m\u001b[0;34m,\u001b[0m \u001b[0merr_filename\u001b[0m\u001b[0;34m)\u001b[0m\u001b[0;34m\u001b[0m\u001b[0;34m\u001b[0m\u001b[0m\n\u001b[0m\u001b[1;32m   1705\u001b[0m                 \u001b[0;32mraise\u001b[0m \u001b[0mchild_exception_type\u001b[0m\u001b[0;34m(\u001b[0m\u001b[0merr_msg\u001b[0m\u001b[0;34m)\u001b[0m\u001b[0;34m\u001b[0m\u001b[0;34m\u001b[0m\u001b[0m\n\u001b[1;32m   1706\u001b[0m \u001b[0;34m\u001b[0m\u001b[0m\n",
      "\u001b[0;31mFileNotFoundError\u001b[0m: [Errno 2] No such file or directory: '/home/robaina/bin/splitBAM.sh'"
     ]
    }
   ],
   "source": [
    "import shutil\n",
    "\n",
    "def foo(input_bam, output_bam):\n",
    "    shutil.copyfile(input_bam, output_bam)\n",
    "    \n",
    "    \n",
    "parallelizeBAMoperation('../sample.bam',\n",
    "                        foo, output_path=None,\n",
    "                        n_processes=4)"
   ]
  },
  {
   "cell_type": "code",
   "execution_count": 85,
   "id": "635bc780-f626-4a38-a489-d4b5e765d31e",
   "metadata": {},
   "outputs": [],
   "source": [
    "splitBAM('sample.bam', 7)"
   ]
  },
  {
   "cell_type": "code",
   "execution_count": 98,
   "id": "9dc849ae-18d6-4f28-898a-fece349f9c51",
   "metadata": {},
   "outputs": [],
   "source": [
    "mergeBAMs('temp_splitBAM', 'merged.bam')"
   ]
  },
  {
   "cell_type": "code",
   "execution_count": 3,
   "id": "1c42a49c-275e-49bc-bccf-14b5b3669c23",
   "metadata": {},
   "outputs": [
    {
     "data": {
      "text/plain": [
       "11825588"
      ]
     },
     "execution_count": 3,
     "metadata": {},
     "output_type": "execute_result"
    }
   ],
   "source": [
    "getNumberOfReads('sample.bam')"
   ]
  },
  {
   "cell_type": "code",
   "execution_count": 39,
   "id": "e2b34891-76bc-4b76-95f9-449801575a81",
   "metadata": {},
   "outputs": [
    {
     "data": {
      "text/plain": [
       "11825588"
      ]
     },
     "execution_count": 39,
     "metadata": {},
     "output_type": "execute_result"
    }
   ],
   "source": [
    "getNumberOfReads('processed.bam')"
   ]
  }
 ],
 "metadata": {
  "kernelspec": {
   "display_name": "Python 3",
   "language": "python",
   "name": "python3"
  },
  "language_info": {
   "codemirror_mode": {
    "name": "ipython",
    "version": 3
   },
   "file_extension": ".py",
   "mimetype": "text/x-python",
   "name": "python",
   "nbconvert_exporter": "python",
   "pygments_lexer": "ipython3",
   "version": "3.8.10"
  }
 },
 "nbformat": 4,
 "nbformat_minor": 5
}
