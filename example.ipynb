{
 "cells": [
  {
   "cell_type": "markdown",
   "source": [
    "# Parallelizing operations on SAM/BAM files\n",
    "\n",
    "SAM/BAM files are typically large, thus, operations on these files are time intensive. This project provides tools to parallelize operations on SAM/BAM files. The workflow follows:\n",
    "\n",
    "1. Split BAM/SAM file in _n_ chunks\n",
    "2. Perform operation in each chunk in a dedicated process and save resulting SAM/BAM chunk \n",
    "3. Merge results back into a single SAM/BAM file\n",
    "\n",
    "Depends on:\n",
    "\n",
    "1. Samtools\n",
    "\n",
    "# Installation\n",
    "\n",
    "1. Git clone project\n",
    "2. cd to cloned project directory\n",
    "3. ```sudo python3 setup.py install```"
   ],
   "metadata": {}
  },
  {
   "cell_type": "markdown",
   "source": [
    "# Usage\n",
    "\n",
    "There is one main function named ```parallelizedBAMoperation```. This function takes as mandatory arguments:\n",
    "\n",
    "1. path to original bam file (should be ordered)\n",
    "2. a callable function to perform the operation on each bam file chunk\n",
    "\n",
    "The callable function must accept the following two first arguments: (i) path to input bam file and (ii) path to resulting output bam file, in this order.\n",
    "\n",
    "# Note\n",
    "\n",
    "Preparing a bam file to run an operation in parallel takes a while, thus is not worth it when the operatin itself takes a short time. For example, preparing a typical bam file for parallelization (in 8 processes) can take almost a minute."
   ],
   "metadata": {}
  },
  {
   "cell_type": "code",
   "execution_count": 1,
   "source": [
    "from parallelbam.parallelbam import parallelizeBAMoperation, getNumberOfReads"
   ],
   "outputs": [],
   "metadata": {}
  },
  {
   "cell_type": "code",
   "execution_count": 2,
   "source": [
    "import shutil\n",
    "\n",
    "def foo(input_bam, output_bam):\n",
    "    shutil.copyfile(input_bam, output_bam)\n",
    "    \n",
    "    \n",
    "parallelizeBAMoperation('../sample.bam',\n",
    "                        foo, output_path=None,\n",
    "                        n_processes=4)"
   ],
   "outputs": [],
   "metadata": {}
  },
  {
   "cell_type": "code",
   "execution_count": 5,
   "source": [
    "getNumberOfReads('../sample.bam')"
   ],
   "outputs": [
    {
     "output_type": "execute_result",
     "data": {
      "text/plain": [
       "11825588"
      ]
     },
     "metadata": {},
     "execution_count": 5
    }
   ],
   "metadata": {}
  },
  {
   "cell_type": "code",
   "execution_count": 6,
   "source": [
    "getNumberOfReads('../processed.bam')"
   ],
   "outputs": [
    {
     "output_type": "execute_result",
     "data": {
      "text/plain": [
       "11825588"
      ]
     },
     "metadata": {},
     "execution_count": 6
    }
   ],
   "metadata": {}
  }
 ],
 "metadata": {
  "kernelspec": {
   "name": "python3",
   "display_name": "Python 3.8.10 64-bit"
  },
  "language_info": {
   "codemirror_mode": {
    "name": "ipython",
    "version": 3
   },
   "file_extension": ".py",
   "mimetype": "text/x-python",
   "name": "python",
   "nbconvert_exporter": "python",
   "pygments_lexer": "ipython3",
   "version": "3.8.10"
  },
  "interpreter": {
   "hash": "916dbcbb3f70747c44a77c7bcd40155683ae19c65e1c03b4aa3499c5328201f1"
  }
 },
 "nbformat": 4,
 "nbformat_minor": 5
}